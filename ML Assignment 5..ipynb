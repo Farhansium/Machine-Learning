{
 "cells": [
  {
   "cell_type": "markdown",
   "id": "3e3a3329",
   "metadata": {},
   "source": [
    "# ML Assignment 5\n",
    "Simple operations demonstrated, tasks below main code."
   ]
  },
  {
   "cell_type": "code",
   "execution_count": 3,
   "id": "b92972d5",
   "metadata": {},
   "outputs": [
    {
     "data": {
      "text/html": [
       "<div>\n",
       "<style scoped>\n",
       "    .dataframe tbody tr th:only-of-type {\n",
       "        vertical-align: middle;\n",
       "    }\n",
       "\n",
       "    .dataframe tbody tr th {\n",
       "        vertical-align: top;\n",
       "    }\n",
       "\n",
       "    .dataframe thead th {\n",
       "        text-align: right;\n",
       "    }\n",
       "</style>\n",
       "<table border=\"1\" class=\"dataframe\">\n",
       "  <thead>\n",
       "    <tr style=\"text-align: right;\">\n",
       "      <th></th>\n",
       "      <th>carat</th>\n",
       "      <th>cut</th>\n",
       "      <th>color</th>\n",
       "      <th>clarity</th>\n",
       "      <th>depth</th>\n",
       "      <th>table</th>\n",
       "      <th>price</th>\n",
       "      <th>x</th>\n",
       "      <th>y</th>\n",
       "      <th>z</th>\n",
       "    </tr>\n",
       "  </thead>\n",
       "  <tbody>\n",
       "    <tr>\n",
       "      <th>0</th>\n",
       "      <td>0.23</td>\n",
       "      <td>Ideal</td>\n",
       "      <td>E</td>\n",
       "      <td>SI2</td>\n",
       "      <td>61.5</td>\n",
       "      <td>55.0</td>\n",
       "      <td>326</td>\n",
       "      <td>3.95</td>\n",
       "      <td>3.98</td>\n",
       "      <td>2.43</td>\n",
       "    </tr>\n",
       "    <tr>\n",
       "      <th>1</th>\n",
       "      <td>0.21</td>\n",
       "      <td>Premium</td>\n",
       "      <td>E</td>\n",
       "      <td>SI1</td>\n",
       "      <td>59.8</td>\n",
       "      <td>61.0</td>\n",
       "      <td>326</td>\n",
       "      <td>3.89</td>\n",
       "      <td>3.84</td>\n",
       "      <td>2.31</td>\n",
       "    </tr>\n",
       "    <tr>\n",
       "      <th>2</th>\n",
       "      <td>0.23</td>\n",
       "      <td>Good</td>\n",
       "      <td>E</td>\n",
       "      <td>VS1</td>\n",
       "      <td>56.9</td>\n",
       "      <td>65.0</td>\n",
       "      <td>327</td>\n",
       "      <td>4.05</td>\n",
       "      <td>4.07</td>\n",
       "      <td>2.31</td>\n",
       "    </tr>\n",
       "    <tr>\n",
       "      <th>3</th>\n",
       "      <td>0.29</td>\n",
       "      <td>Premium</td>\n",
       "      <td>I</td>\n",
       "      <td>VS2</td>\n",
       "      <td>62.4</td>\n",
       "      <td>58.0</td>\n",
       "      <td>334</td>\n",
       "      <td>4.20</td>\n",
       "      <td>4.23</td>\n",
       "      <td>2.63</td>\n",
       "    </tr>\n",
       "    <tr>\n",
       "      <th>4</th>\n",
       "      <td>0.31</td>\n",
       "      <td>Good</td>\n",
       "      <td>J</td>\n",
       "      <td>SI2</td>\n",
       "      <td>63.3</td>\n",
       "      <td>58.0</td>\n",
       "      <td>335</td>\n",
       "      <td>4.34</td>\n",
       "      <td>4.35</td>\n",
       "      <td>2.75</td>\n",
       "    </tr>\n",
       "    <tr>\n",
       "      <th>...</th>\n",
       "      <td>...</td>\n",
       "      <td>...</td>\n",
       "      <td>...</td>\n",
       "      <td>...</td>\n",
       "      <td>...</td>\n",
       "      <td>...</td>\n",
       "      <td>...</td>\n",
       "      <td>...</td>\n",
       "      <td>...</td>\n",
       "      <td>...</td>\n",
       "    </tr>\n",
       "    <tr>\n",
       "      <th>53935</th>\n",
       "      <td>0.72</td>\n",
       "      <td>Ideal</td>\n",
       "      <td>D</td>\n",
       "      <td>SI1</td>\n",
       "      <td>60.8</td>\n",
       "      <td>57.0</td>\n",
       "      <td>2757</td>\n",
       "      <td>5.75</td>\n",
       "      <td>5.76</td>\n",
       "      <td>3.50</td>\n",
       "    </tr>\n",
       "    <tr>\n",
       "      <th>53936</th>\n",
       "      <td>0.72</td>\n",
       "      <td>Good</td>\n",
       "      <td>D</td>\n",
       "      <td>SI1</td>\n",
       "      <td>63.1</td>\n",
       "      <td>55.0</td>\n",
       "      <td>2757</td>\n",
       "      <td>5.69</td>\n",
       "      <td>5.75</td>\n",
       "      <td>3.61</td>\n",
       "    </tr>\n",
       "    <tr>\n",
       "      <th>53937</th>\n",
       "      <td>0.70</td>\n",
       "      <td>Very Good</td>\n",
       "      <td>D</td>\n",
       "      <td>SI1</td>\n",
       "      <td>62.8</td>\n",
       "      <td>60.0</td>\n",
       "      <td>2757</td>\n",
       "      <td>5.66</td>\n",
       "      <td>5.68</td>\n",
       "      <td>3.56</td>\n",
       "    </tr>\n",
       "    <tr>\n",
       "      <th>53938</th>\n",
       "      <td>0.86</td>\n",
       "      <td>Premium</td>\n",
       "      <td>H</td>\n",
       "      <td>SI2</td>\n",
       "      <td>61.0</td>\n",
       "      <td>58.0</td>\n",
       "      <td>2757</td>\n",
       "      <td>6.15</td>\n",
       "      <td>6.12</td>\n",
       "      <td>3.74</td>\n",
       "    </tr>\n",
       "    <tr>\n",
       "      <th>53939</th>\n",
       "      <td>0.75</td>\n",
       "      <td>Ideal</td>\n",
       "      <td>D</td>\n",
       "      <td>SI2</td>\n",
       "      <td>62.2</td>\n",
       "      <td>55.0</td>\n",
       "      <td>2757</td>\n",
       "      <td>5.83</td>\n",
       "      <td>5.87</td>\n",
       "      <td>3.64</td>\n",
       "    </tr>\n",
       "  </tbody>\n",
       "</table>\n",
       "<p>53940 rows × 10 columns</p>\n",
       "</div>"
      ],
      "text/plain": [
       "       carat        cut color clarity  depth  table  price     x     y     z\n",
       "0       0.23      Ideal     E     SI2   61.5   55.0    326  3.95  3.98  2.43\n",
       "1       0.21    Premium     E     SI1   59.8   61.0    326  3.89  3.84  2.31\n",
       "2       0.23       Good     E     VS1   56.9   65.0    327  4.05  4.07  2.31\n",
       "3       0.29    Premium     I     VS2   62.4   58.0    334  4.20  4.23  2.63\n",
       "4       0.31       Good     J     SI2   63.3   58.0    335  4.34  4.35  2.75\n",
       "...      ...        ...   ...     ...    ...    ...    ...   ...   ...   ...\n",
       "53935   0.72      Ideal     D     SI1   60.8   57.0   2757  5.75  5.76  3.50\n",
       "53936   0.72       Good     D     SI1   63.1   55.0   2757  5.69  5.75  3.61\n",
       "53937   0.70  Very Good     D     SI1   62.8   60.0   2757  5.66  5.68  3.56\n",
       "53938   0.86    Premium     H     SI2   61.0   58.0   2757  6.15  6.12  3.74\n",
       "53939   0.75      Ideal     D     SI2   62.2   55.0   2757  5.83  5.87  3.64\n",
       "\n",
       "[53940 rows x 10 columns]"
      ]
     },
     "execution_count": 3,
     "metadata": {},
     "output_type": "execute_result"
    }
   ],
   "source": [
    "import numpy as np\n",
    "import pandas as pd \n",
    "import seaborn as sns\n",
    "from sklearn.datasets import fetch_openml\n",
    "\n",
    "df = sns.load_dataset('diamonds')\n",
    "df"
   ]
  },
  {
   "cell_type": "code",
   "execution_count": 4,
   "id": "5e998acc",
   "metadata": {},
   "outputs": [
    {
     "data": {
      "text/plain": [
       "carat      0\n",
       "cut        0\n",
       "color      0\n",
       "clarity    0\n",
       "depth      0\n",
       "table      0\n",
       "price      0\n",
       "x          0\n",
       "y          0\n",
       "z          0\n",
       "dtype: int64"
      ]
     },
     "execution_count": 4,
     "metadata": {},
     "output_type": "execute_result"
    }
   ],
   "source": [
    "df.isnull().sum()"
   ]
  },
  {
   "cell_type": "code",
   "execution_count": 5,
   "id": "972b9181",
   "metadata": {},
   "outputs": [
    {
     "data": {
      "text/plain": [
       "<AxesSubplot:>"
      ]
     },
     "execution_count": 5,
     "metadata": {},
     "output_type": "execute_result"
    },
    {
     "data": {
      "image/png": "[encoded data removed]",
      "text/plain": [
       "<Figure size 432x288 with 2 Axes>"
      ]
     },
     "metadata": {
      "needs_background": "light"
     },
     "output_type": "display_data"
    }
   ],
   "source": [
    "sns.heatmap(df.corr(),annot = True)"
   ]
  },
  {
   "cell_type": "code",
   "execution_count": 6,
   "id": "3162f1d8",
   "metadata": {},
   "outputs": [
    {
     "data": {
      "text/plain": [
       "<seaborn.axisgrid.PairGrid at 0x1e4d25bcb80>"
      ]
     },
     "execution_count": 6,
     "metadata": {},
     "output_type": "execute_result"
    },
    {
     "data": {
      "image/png": "[encoded data removed]",
      "text/plain": [
       "<Figure size 720x720 with 20 Axes>"
      ]
     },
     "metadata": {
      "needs_background": "light"
     },
     "output_type": "display_data"
    }
   ],
   "source": [
    "sns.pairplot(df[['carat','x','y','z']])"
   ]
  },
  {
   "cell_type": "code",
   "execution_count": 7,
   "id": "e4b40fc6",
   "metadata": {},
   "outputs": [],
   "source": [
    "# BY just Selecting the important ones\n",
    "X = df[['x','y','z']]\n",
    "X_features = ['x','y','z']\n",
    "Xarr = X.values.reshape((-1, 1))\n",
    "y = df['carat']"
   ]
  },
  {
   "cell_type": "code",
   "execution_count": 8,
   "id": "0a95e6f1",
   "metadata": {},
   "outputs": [],
   "source": [
    "from sklearn.linear_model import SGDRegressor\n",
    "from sklearn.neighbors import KNeighborsRegressor\n",
    "from sklearn.model_selection import KFold\n",
    "from sklearn.linear_model import Lasso\n",
    "from sklearn.model_selection import cross_validate\n",
    "from sklearn.model_selection import train_test_split\n",
    "import numpy as np\n",
    "import matplotlib.pyplot as plt"
   ]
  },
  {
   "cell_type": "code",
   "execution_count": 9,
   "id": "f3b71625",
   "metadata": {},
   "outputs": [
    {
     "name": "stdout",
     "output_type": "stream",
     "text": [
      "(45849, 3) (8091, 3) (45849,) (8091,)\n"
     ]
    }
   ],
   "source": [
    "xtrain,xtest,ytrain,ytest = train_test_split(X,y,  test_size= .15)\n",
    "print(xtrain.shape,xtest.shape,ytrain.shape,ytest.shape)"
   ]
  },
  {
   "cell_type": "code",
   "execution_count": 10,
   "id": "0f94df7a",
   "metadata": {},
   "outputs": [
    {
     "name": "stdout",
     "output_type": "stream",
     "text": [
      "-- Epoch 1\n",
      "Norm: 0.29, NNZs: 3, Bias: -1.213392, T: 45849, Avg. loss: 0.018290\n",
      "Total training time: 0.01 seconds.\n",
      "-- Epoch 2\n",
      "Norm: 0.33, NNZs: 3, Bias: -1.438072, T: 91698, Avg. loss: 0.006642\n",
      "Total training time: 0.01 seconds.\n",
      "-- Epoch 3\n",
      "Norm: 0.34, NNZs: 3, Bias: -1.514684, T: 137547, Avg. loss: 0.005716\n",
      "Total training time: 0.01 seconds.\n",
      "-- Epoch 4\n",
      "Norm: 0.35, NNZs: 3, Bias: -1.543969, T: 183396, Avg. loss: 0.005572\n",
      "Total training time: 0.02 seconds.\n",
      "-- Epoch 5\n",
      "Norm: 0.35, NNZs: 3, Bias: -1.556247, T: 229245, Avg. loss: 0.005534\n",
      "Total training time: 0.02 seconds.\n",
      "-- Epoch 6\n",
      "Norm: 0.35, NNZs: 3, Bias: -1.561940, T: 275094, Avg. loss: 0.005516\n",
      "Total training time: 0.03 seconds.\n",
      "-- Epoch 7\n",
      "Norm: 0.35, NNZs: 3, Bias: -1.564895, T: 320943, Avg. loss: 0.005518\n",
      "Total training time: 0.03 seconds.\n",
      "Convergence after 7 epochs took 0.03 seconds\n",
      "SGDRegressor(alpha=0.001, verbose=1)\n",
      "number of iterations completed: 7, number of weight updates: 320944.0\n"
     ]
    }
   ],
   "source": [
    "sgdr = SGDRegressor(alpha = 0.001, verbose = 1)\n",
    "sgdr.fit(xtrain, ytrain)\n",
    "print(sgdr)\n",
    "print(f\"number of iterations completed: {sgdr.n_iter_}, number of weight updates: {sgdr.t_}\")\n"
   ]
  },
  {
   "cell_type": "code",
   "execution_count": 11,
   "id": "d0919af6",
   "metadata": {},
   "outputs": [
    {
     "name": "stdout",
     "output_type": "stream",
     "text": [
      "model parameters:\n",
      " w: [0.30901371 0.00045289 0.16605782], \n",
      " b:[-1.56489478]\n"
     ]
    }
   ],
   "source": [
    "b_norm = sgdr.intercept_\n",
    "w_norm = sgdr.coef_\n",
    "print(f\"model parameters:\\n w: {w_norm}, \\n b:{b_norm}\")"
   ]
  },
  {
   "cell_type": "code",
   "execution_count": 12,
   "id": "c2093eda",
   "metadata": {},
   "outputs": [
    {
     "name": "stdout",
     "output_type": "stream",
     "text": [
      "prediction using np.dot() and sgdr.predict match: True\n",
      "Prediction on test set:\n",
      "[1.01 0.6  0.25 1.5  0.2  1.52 0.64 0.23 0.23 0.61]\n",
      "Target values \n",
      "[0.9  0.55 0.33 1.56 0.3  1.5  0.57 0.31 0.31 0.55]\n"
     ]
    }
   ],
   "source": [
    "# make a prediction using sgdr.predict()\n",
    "y_pred_sgd = sgdr.predict(xtest)\n",
    "\n",
    "# make a prediction using w,b. \n",
    "y_pred = np.dot(xtest, w_norm) + b_norm  \n",
    "print(f\"prediction using np.dot() and sgdr.predict match: {(y_pred == y_pred_sgd).all()}\")\n",
    "\n",
    "print(f\"Prediction on test set:\\n{y_pred[:10].round(2)}\" )\n",
    "print(f\"Target values \\n{ytest[:10].values}\")"
   ]
  },
  {
   "cell_type": "code",
   "execution_count": 13,
   "id": "2b0d6c1f",
   "metadata": {},
   "outputs": [
    {
     "data": {
      "image/png": "[encoded data removed]",
      "text/plain": [
       "<Figure size 864x216 with 3 Axes>"
      ]
     },
     "metadata": {
      "needs_background": "light"
     },
     "output_type": "display_data"
    }
   ],
   "source": [
    "# plot predictions and targets vs original features    \n",
    "fig,ax=plt.subplots(1,3,figsize=(12,3),sharey=True)\n",
    "for i,col in enumerate(X_features):\n",
    "    ax[i].scatter(xtest[col],ytest, label = 'target', s=2)\n",
    "    ax[i].set_xlabel(X_features[i])\n",
    "    ax[i].scatter(xtest[col],y_pred, label = 'predict', s=2)\n",
    "ax[0].set_ylabel(\"carat\"); ax[0].legend();\n",
    "fig.suptitle(\"target versus prediction using z-score normalized model\")\n",
    "plt.show()"
   ]
  },
  {
   "cell_type": "code",
   "execution_count": 14,
   "id": "641cea0a",
   "metadata": {},
   "outputs": [
    {
     "name": "stdout",
     "output_type": "stream",
     "text": [
      "(45849, 2) (8091, 2) (45849,) (8091,)\n"
     ]
    }
   ],
   "source": [
    "X = df['x'].values\n",
    "x = np.c_[X, X**2]\n",
    "\n",
    "xtrain,xtest,ytrain,ytest = train_test_split(x,y,  test_size= .15)\n",
    "print(xtrain.shape,xtest.shape,ytrain.shape,ytest.shape)"
   ]
  },
  {
   "cell_type": "code",
   "execution_count": 15,
   "id": "143c9a37",
   "metadata": {},
   "outputs": [
    {
     "name": "stdout",
     "output_type": "stream",
     "text": [
      "-- Epoch 1\n",
      "Norm: 0.39, NNZs: 2, Bias: 0.797195, T: 45849, Avg. loss: 0.004132\n",
      "Total training time: 0.00 seconds.\n",
      "-- Epoch 2\n",
      "Norm: 0.45, NNZs: 2, Bias: 0.797574, T: 91698, Avg. loss: 0.002302\n",
      "Total training time: 0.01 seconds.\n",
      "-- Epoch 3\n",
      "Norm: 0.51, NNZs: 2, Bias: 0.797997, T: 137547, Avg. loss: 0.001949\n",
      "Total training time: 0.01 seconds.\n",
      "-- Epoch 4\n",
      "Norm: 0.56, NNZs: 2, Bias: 0.798295, T: 183396, Avg. loss: 0.001711\n",
      "Total training time: 0.02 seconds.\n",
      "-- Epoch 5\n",
      "Norm: 0.60, NNZs: 2, Bias: 0.797190, T: 229245, Avg. loss: 0.001541\n",
      "Total training time: 0.02 seconds.\n",
      "-- Epoch 6\n",
      "Norm: 0.64, NNZs: 2, Bias: 0.799422, T: 275094, Avg. loss: 0.001416\n",
      "Total training time: 0.03 seconds.\n",
      "-- Epoch 7\n",
      "Norm: 0.67, NNZs: 2, Bias: 0.797110, T: 320943, Avg. loss: 0.001318\n",
      "Total training time: 0.03 seconds.\n",
      "Convergence after 7 epochs took 0.03 seconds\n",
      "SGDRegressor(alpha=0.001, verbose=1)\n",
      "number of iterations completed: 7, number of weight updates: 320944.0\n",
      "model parameters:\n",
      " w: [-0.17725314  0.64476285], \n",
      " b:[0.79711014]\n"
     ]
    }
   ],
   "source": [
    "from sklearn.preprocessing import StandardScaler\n",
    "sc = StandardScaler()\n",
    "sc.fit(xtrain)\n",
    "xtrainsc = sc.transform(xtrain)\n",
    "xtestsc = sc.transform(xtest)\n",
    "\n",
    "sgdr.fit(xtrainsc, ytrain)\n",
    "print(sgdr)\n",
    "print(f\"number of iterations completed: {sgdr.n_iter_}, number of weight updates: {sgdr.t_}\")\n",
    "b_norm = sgdr.intercept_\n",
    "w_norm = sgdr.coef_\n",
    "print(f\"model parameters:\\n w: {w_norm}, \\n b:{b_norm}\")"
   ]
  },
  {
   "cell_type": "code",
   "execution_count": 16,
   "id": "4da8acf9",
   "metadata": {},
   "outputs": [
    {
     "data": {
      "text/plain": [
       "0.9900562783522043"
      ]
     },
     "execution_count": 16,
     "metadata": {},
     "output_type": "execute_result"
    }
   ],
   "source": [
    "sgdr.score(xtestsc,ytest)"
   ]
  },
  {
   "cell_type": "code",
   "execution_count": 17,
   "id": "026b85a9",
   "metadata": {},
   "outputs": [
    {
     "data": {
      "image/png": "[encoded data removed]",
      "text/plain": [
       "<Figure size 432x288 with 1 Axes>"
      ]
     },
     "metadata": {
      "needs_background": "light"
     },
     "output_type": "display_data"
    }
   ],
   "source": [
    "ypred = sgdr.predict(xtestsc) \n",
    "plt.scatter(xtest[:,1], ytest, marker='x', c='r', label=\"Actual Value\"); plt.title(\"x, x**2,  features\")\n",
    "plt.scatter(xtest[:,1],ypred, label=\"Predicted Value\", s = 4); plt.xlabel(\"x\"); plt.ylabel(\"y\"); plt.legend(); plt.show()"
   ]
  },
  {
   "cell_type": "markdown",
   "id": "a693f8a2",
   "metadata": {},
   "source": [
    "# Task: 1\n",
    "1: add another polynomial degree 𝑥^3 and explain which is a better fit with better score"
   ]
  },
  {
   "cell_type": "code",
   "execution_count": 31,
   "id": "6d55433e",
   "metadata": {},
   "outputs": [
    {
     "name": "stdout",
     "output_type": "stream",
     "text": [
      "(45849, 3) (8091, 3) (45849,) (8091,)\n"
     ]
    }
   ],
   "source": [
    "X = df['x'].values\n",
    "x = np.c_[X, X**2,X**3]\n",
    "\n",
    "xtrain,xtest,ytrain,ytest = train_test_split(x,y,  test_size= .15)\n",
    "print(xtrain.shape,xtest.shape,ytrain.shape,ytest.shape)"
   ]
  },
  {
   "cell_type": "code",
   "execution_count": 32,
   "id": "9a1595f9",
   "metadata": {},
   "outputs": [
    {
     "name": "stdout",
     "output_type": "stream",
     "text": [
      "-- Epoch 1\n",
      "Norm: 0.33, NNZs: 3, Bias: 0.799067, T: 45849, Avg. loss: 0.002526\n",
      "Total training time: 0.00 seconds.\n",
      "-- Epoch 2\n",
      "Norm: 0.37, NNZs: 3, Bias: 0.799834, T: 91698, Avg. loss: 0.000972\n",
      "Total training time: 0.00 seconds.\n",
      "-- Epoch 3\n",
      "Norm: 0.39, NNZs: 3, Bias: 0.799453, T: 137547, Avg. loss: 0.000888\n",
      "Total training time: 0.01 seconds.\n",
      "-- Epoch 4\n",
      "Norm: 0.40, NNZs: 3, Bias: 0.798679, T: 183396, Avg. loss: 0.000861\n",
      "Total training time: 0.01 seconds.\n",
      "-- Epoch 5\n",
      "Norm: 0.41, NNZs: 3, Bias: 0.798396, T: 229245, Avg. loss: 0.000851\n",
      "Total training time: 0.01 seconds.\n",
      "-- Epoch 6\n",
      "Norm: 0.41, NNZs: 3, Bias: 0.798808, T: 275094, Avg. loss: 0.000845\n",
      "Total training time: 0.03 seconds.\n",
      "-- Epoch 7\n",
      "Norm: 0.41, NNZs: 3, Bias: 0.799103, T: 320943, Avg. loss: 0.000843\n",
      "Total training time: 0.04 seconds.\n",
      "Convergence after 7 epochs took 0.04 seconds\n"
     ]
    },
    {
     "data": {
      "text/plain": [
       "SGDRegressor(alpha=0.001, verbose=1)"
      ]
     },
     "execution_count": 32,
     "metadata": {},
     "output_type": "execute_result"
    }
   ],
   "source": [
    "from sklearn.preprocessing import StandardScaler\n",
    "sc = StandardScaler()\n",
    "sc.fit(xtrain)\n",
    "xtrainsc = sc.transform(xtrain)\n",
    "xtestsc = sc.transform(xtest)\n",
    "\n",
    "sgdr.fit(xtrainsc, ytrain)"
   ]
  },
  {
   "cell_type": "code",
   "execution_count": 33,
   "id": "86a56a27",
   "metadata": {},
   "outputs": [
    {
     "data": {
      "text/plain": [
       "0.9909015545073412"
      ]
     },
     "execution_count": 33,
     "metadata": {},
     "output_type": "execute_result"
    }
   ],
   "source": [
    "sgdr.score(xtestsc,ytest)"
   ]
  },
  {
   "cell_type": "code",
   "execution_count": 35,
   "id": "800b7905",
   "metadata": {},
   "outputs": [
    {
     "data": {
      "image/png": "[encoded data removed]",
      "text/plain": [
       "<Figure size 432x288 with 1 Axes>"
      ]
     },
     "metadata": {
      "needs_background": "light"
     },
     "output_type": "display_data"
    }
   ],
   "source": [
    "ypred = sgdr.predict(xtestsc) \n",
    "plt.scatter(xtest[:,1], ytest, marker='x', c='r', label=\"Actual Value\"); plt.title(\"x, x**2,x**3,  features\")\n",
    "plt.scatter(xtest[:,1],ypred, label=\"Predicted Value\", s = 4); plt.xlabel(\"x\"); plt.ylabel(\"y\"); plt.legend(); plt.show()"
   ]
  },
  {
   "cell_type": "markdown",
   "id": "30651cb6",
   "metadata": {},
   "source": [
    "We added another Polynomial of degree 3, and our score was 0.9909015545073412, which is a better score than with a polynomial of degree 2 of 0.9859242956320872, therefore degree 3 is better in terms of score, and a better fit but the fit for degree 2 is less resource intensive."
   ]
  },
  {
   "cell_type": "markdown",
   "id": "45d4b545",
   "metadata": {},
   "source": [
    "# Task: 2\n",
    "2: redo this lab for y and z features"
   ]
  },
  {
   "cell_type": "code",
   "execution_count": 51,
   "id": "c5e16b05",
   "metadata": {},
   "outputs": [],
   "source": [
    "# BY just Selecting the important ones\n",
    "X = df[['y','z']]\n",
    "X_features = ['y','z']\n",
    "Xarr = X.values.reshape((-1, 1))\n",
    "y = df['carat']"
   ]
  },
  {
   "cell_type": "code",
   "execution_count": 52,
   "id": "46304a93",
   "metadata": {},
   "outputs": [],
   "source": [
    "from sklearn.linear_model import SGDRegressor\n",
    "from sklearn.neighbors import KNeighborsRegressor\n",
    "from sklearn.model_selection import KFold\n",
    "from sklearn.linear_model import Lasso\n",
    "from sklearn.model_selection import cross_validate\n",
    "from sklearn.model_selection import train_test_split\n",
    "import numpy as np\n",
    "import matplotlib.pyplot as plt"
   ]
  },
  {
   "cell_type": "code",
   "execution_count": 53,
   "id": "0a4c774f",
   "metadata": {},
   "outputs": [],
   "source": [
    "# scaling feature\n",
    "from sklearn.preprocessing import StandardScaler\n",
    "sc = StandardScaler()\n",
    "sc.fit(xtrain)\n",
    "xtrainsc = sc.transform(xtrain)\n",
    "xtestsc = sc.transform(xtest)"
   ]
  },
  {
   "cell_type": "code",
   "execution_count": 54,
   "id": "9fec0a09",
   "metadata": {},
   "outputs": [
    {
     "name": "stdout",
     "output_type": "stream",
     "text": [
      "-- Epoch 1\n",
      "Norm: 0.24, NNZs: 3, Bias: 0.799391, T: 45849, Avg. loss: 0.005352\n",
      "Total training time: 0.00 seconds.\n",
      "-- Epoch 2\n",
      "Norm: 0.23, NNZs: 3, Bias: 0.798741, T: 91698, Avg. loss: 0.004200\n",
      "Total training time: 0.01 seconds.\n",
      "-- Epoch 3\n",
      "Norm: 0.24, NNZs: 3, Bias: 0.798507, T: 137547, Avg. loss: 0.004206\n",
      "Total training time: 0.02 seconds.\n",
      "-- Epoch 4\n",
      "Norm: 0.23, NNZs: 3, Bias: 0.799041, T: 183396, Avg. loss: 0.004196\n",
      "Total training time: 0.02 seconds.\n",
      "-- Epoch 5\n",
      "Norm: 0.24, NNZs: 3, Bias: 0.799961, T: 229245, Avg. loss: 0.004203\n",
      "Total training time: 0.03 seconds.\n",
      "-- Epoch 6\n",
      "Norm: 0.24, NNZs: 3, Bias: 0.800757, T: 275094, Avg. loss: 0.004198\n",
      "Total training time: 0.03 seconds.\n",
      "-- Epoch 7\n",
      "Norm: 0.23, NNZs: 3, Bias: 0.798769, T: 320943, Avg. loss: 0.004187\n",
      "Total training time: 0.04 seconds.\n",
      "Convergence after 7 epochs took 0.04 seconds\n",
      "SGDRegressor(alpha=0.5, max_iter=100000, verbose=1)\n"
     ]
    }
   ],
   "source": [
    "sgdr = SGDRegressor(alpha = 0.5, verbose = 1, max_iter=100000)\n",
    "sgdr.fit(xtrainsc, ytrain)\n",
    "print(sgdr)"
   ]
  },
  {
   "cell_type": "code",
   "execution_count": 55,
   "id": "9a29742a",
   "metadata": {},
   "outputs": [
    {
     "data": {
      "image/png": "[encoded data removed]",
      "text/plain": [
       "<Figure size 864x216 with 2 Axes>"
      ]
     },
     "metadata": {
      "needs_background": "light"
     },
     "output_type": "display_data"
    }
   ],
   "source": [
    "# plot predictions and targets vs original features \n",
    "y_pred = sgdr.predict(xtestsc)\n",
    "fig,ax=plt.subplots(1,2,figsize=(12,3),sharey=True)\n",
    "for i,col in enumerate(X_features):\n",
    "    ax[i].scatter(xtest[:,i],ytest, label = 'target', s=2)\n",
    "    ax[i].set_xlabel(X_features[i])\n",
    "    ax[i].scatter(xtest[:,i],y_pred, label = 'predict', s=2)\n",
    "ax[0].set_ylabel(\"carat\"); ax[0].legend();\n",
    "fig.suptitle(\"target versus prediction using z-score normalized model\")\n",
    "plt.show()"
   ]
  },
  {
   "cell_type": "markdown",
   "id": "465fc768",
   "metadata": {},
   "source": [
    "## for y"
   ]
  },
  {
   "cell_type": "code",
   "execution_count": 56,
   "id": "a1008183",
   "metadata": {},
   "outputs": [
    {
     "name": "stdout",
     "output_type": "stream",
     "text": [
      "0.0 0.0 0.2 0.2\n",
      "1070.599167 1238.833224 4.5 5.01\n"
     ]
    }
   ],
   "source": [
    "X = df['y'].values\n",
    "x = np.c_[X, X**2,X**3,]\n",
    "\n",
    "\n",
    "print(xtrain.min(),xtest.min(),ytrain.min(),ytest.min())\n",
    "print(xtrain.max(),xtest.max(),ytrain.max(),ytest.max())"
   ]
  },
  {
   "cell_type": "code",
   "execution_count": 61,
   "id": "ebd255ea",
   "metadata": {},
   "outputs": [
    {
     "name": "stdout",
     "output_type": "stream",
     "text": [
      "-- Epoch 1\n",
      "Norm: 0.23, NNZs: 3, Bias: 0.797514, T: 45849, Avg. loss: 0.005407\n",
      "Total training time: 0.00 seconds.\n",
      "-- Epoch 2\n",
      "Norm: 0.23, NNZs: 3, Bias: 0.801390, T: 91698, Avg. loss: 0.004204\n",
      "Total training time: 0.01 seconds.\n",
      "-- Epoch 3\n",
      "Norm: 0.23, NNZs: 3, Bias: 0.800206, T: 137547, Avg. loss: 0.004193\n",
      "Total training time: 0.02 seconds.\n",
      "-- Epoch 4\n",
      "Norm: 0.24, NNZs: 3, Bias: 0.799496, T: 183396, Avg. loss: 0.004204\n",
      "Total training time: 0.02 seconds.\n",
      "-- Epoch 5\n",
      "Norm: 0.24, NNZs: 3, Bias: 0.799453, T: 229245, Avg. loss: 0.004200\n",
      "Total training time: 0.03 seconds.\n",
      "-- Epoch 6\n",
      "Norm: 0.24, NNZs: 3, Bias: 0.799958, T: 275094, Avg. loss: 0.004197\n",
      "Total training time: 0.03 seconds.\n",
      "-- Epoch 7\n",
      "Norm: 0.23, NNZs: 3, Bias: 0.799164, T: 320943, Avg. loss: 0.004193\n",
      "Total training time: 0.04 seconds.\n",
      "Convergence after 7 epochs took 0.04 seconds\n",
      "SGDRegressor(alpha=0.5, max_iter=100000, verbose=1)\n"
     ]
    }
   ],
   "source": [
    "from sklearn.preprocessing import StandardScaler\n",
    "sc = StandardScaler()\n",
    "sc.fit(xtrain)\n",
    "xtrainsc = sc.transform(xtrain)\n",
    "xtestsc = sc.transform(xtest)\n",
    "\n",
    "sgdr.fit(xtrainsc, ytrain)\n",
    "print(sgdr)"
   ]
  },
  {
   "cell_type": "code",
   "execution_count": 62,
   "id": "4729b5c8",
   "metadata": {},
   "outputs": [
    {
     "data": {
      "text/plain": [
       "0.9615393275167917"
      ]
     },
     "execution_count": 62,
     "metadata": {},
     "output_type": "execute_result"
    }
   ],
   "source": [
    "sgdr.score(xtestsc,ytest)"
   ]
  },
  {
   "cell_type": "code",
   "execution_count": 63,
   "id": "58da3c59",
   "metadata": {},
   "outputs": [
    {
     "data": {
      "image/png": "[encoded data removed]",
      "text/plain": [
       "<Figure size 432x288 with 1 Axes>"
      ]
     },
     "metadata": {
      "needs_background": "light"
     },
     "output_type": "display_data"
    }
   ],
   "source": [
    "ypred = sgdr.predict(xtestsc) \n",
    "plt.scatter(xtest[:,1], ytest, marker='x', c='r', label=\"Actual Value\"); plt.title(\"x, x**2,x**3,  features\")\n",
    "plt.scatter(xtest[:,1],ypred, label=\"Predicted Value\", s = 4); plt.xlabel(\"x\"); plt.ylabel(\"y\"); plt.legend(); plt.show()"
   ]
  },
  {
   "cell_type": "markdown",
   "id": "6b5d94a0",
   "metadata": {},
   "source": [
    "## for z"
   ]
  },
  {
   "cell_type": "code",
   "execution_count": 82,
   "id": "75e149d5",
   "metadata": {},
   "outputs": [
    {
     "name": "stdout",
     "output_type": "stream",
     "text": [
      "0.0 0.0 0.2 0.21\n",
      "115.3476 104.6529 5.01 4.5\n"
     ]
    }
   ],
   "source": [
    "X = df['z'].values\n",
    "x = np.c_[X, X**2,X**3,]\n",
    "\n",
    "\n",
    "print(xtrain.min(),xtest.min(),ytrain.min(),ytest.min())\n",
    "print(xtrain.max(),xtest.max(),ytrain.max(),ytest.max())"
   ]
  },
  {
   "cell_type": "code",
   "execution_count": 83,
   "id": "a35b5805",
   "metadata": {},
   "outputs": [
    {
     "name": "stdout",
     "output_type": "stream",
     "text": [
      "-- Epoch 1\n",
      "Norm: 0.27, NNZs: 2, Bias: 0.800789, T: 45849, Avg. loss: 0.008956\n",
      "Total training time: 0.01 seconds.\n",
      "-- Epoch 2\n",
      "Norm: 0.26, NNZs: 2, Bias: 0.794589, T: 91698, Avg. loss: 0.007696\n",
      "Total training time: 0.01 seconds.\n",
      "-- Epoch 3\n",
      "Norm: 0.27, NNZs: 2, Bias: 0.798777, T: 137547, Avg. loss: 0.007732\n",
      "Total training time: 0.02 seconds.\n",
      "-- Epoch 4\n",
      "Norm: 0.27, NNZs: 2, Bias: 0.800720, T: 183396, Avg. loss: 0.007718\n",
      "Total training time: 0.02 seconds.\n",
      "-- Epoch 5\n",
      "Norm: 0.26, NNZs: 2, Bias: 0.796920, T: 229245, Avg. loss: 0.007697\n",
      "Total training time: 0.03 seconds.\n",
      "-- Epoch 6\n",
      "Norm: 0.27, NNZs: 2, Bias: 0.799674, T: 275094, Avg. loss: 0.007716\n",
      "Total training time: 0.03 seconds.\n",
      "-- Epoch 7\n",
      "Norm: 0.27, NNZs: 2, Bias: 0.802579, T: 320943, Avg. loss: 0.007730\n",
      "Total training time: 0.03 seconds.\n",
      "Convergence after 7 epochs took 0.03 seconds\n",
      "SGDRegressor(alpha=0.5, max_iter=100000, verbose=1)\n"
     ]
    }
   ],
   "source": [
    "from sklearn.preprocessing import StandardScaler\n",
    "sc = StandardScaler()\n",
    "sc.fit(xtrain)\n",
    "xtrainsc = sc.transform(xtrain)\n",
    "xtestsc = sc.transform(xtest)\n",
    "\n",
    "sgdr.fit(xtrainsc, ytrain)\n",
    "print(sgdr)"
   ]
  },
  {
   "cell_type": "code",
   "execution_count": 84,
   "id": "9b5d75dd",
   "metadata": {},
   "outputs": [
    {
     "data": {
      "text/plain": [
       "0.9369418639470407"
      ]
     },
     "execution_count": 84,
     "metadata": {},
     "output_type": "execute_result"
    }
   ],
   "source": [
    "sgdr.score(xtestsc,ytest)"
   ]
  },
  {
   "cell_type": "code",
   "execution_count": 85,
   "id": "8da02132",
   "metadata": {},
   "outputs": [
    {
     "data": {
      "image/png": "[encoded data removed]",
      "text/plain": [
       "<Figure size 432x288 with 1 Axes>"
      ]
     },
     "metadata": {
      "needs_background": "light"
     },
     "output_type": "display_data"
    }
   ],
   "source": [
    "ypred = sgdr.predict(xtestsc) \n",
    "plt.scatter(xtest[:,1], ytest, marker='x', c='r', label=\"Actual Value\"); plt.title(\"x, x**2,x**3,  features\")\n",
    "plt.scatter(xtest[:,1],ypred, label=\"Predicted Value\", s = 4); plt.xlabel(\"x\"); plt.ylabel(\"y\"); plt.legend(); plt.show()"
   ]
  },
  {
   "cell_type": "markdown",
   "id": "727359ab",
   "metadata": {},
   "source": [
    "# Task: 3\n",
    "3: what happens without feature scaling?"
   ]
  },
  {
   "cell_type": "markdown",
   "id": "5ad6665f",
   "metadata": {},
   "source": [
    "# with scaling"
   ]
  },
  {
   "cell_type": "code",
   "execution_count": 123,
   "id": "ad8d0317",
   "metadata": {},
   "outputs": [
    {
     "name": "stdout",
     "output_type": "stream",
     "text": [
      "(45849, 2) (8091, 2) (45849,) (8091,)\n"
     ]
    }
   ],
   "source": [
    "X = df['x'].values\n",
    "x = np.c_[X, X**2]\n",
    "\n",
    "xtrain,xtest,ytrain,ytest = train_test_split(x,y,  test_size= .15)\n",
    "print(xtrain.shape,xtest.shape,ytrain.shape,ytest.shape)"
   ]
  },
  {
   "cell_type": "code",
   "execution_count": 124,
   "id": "d94a6177",
   "metadata": {},
   "outputs": [],
   "source": [
    "from sklearn.preprocessing import StandardScaler\n",
    "sc = StandardScaler()\n",
    "sc.fit(xtrain)\n",
    "xtrainsc = sc.transform(xtrain)\n",
    "xtestsc = sc.transform(xtest)"
   ]
  },
  {
   "cell_type": "code",
   "execution_count": 125,
   "id": "cbe37cdc",
   "metadata": {},
   "outputs": [
    {
     "name": "stdout",
     "output_type": "stream",
     "text": [
      "-- Epoch 1\n",
      "Norm: 0.27, NNZs: 2, Bias: 0.801722, T: 45849, Avg. loss: 0.009089\n",
      "Total training time: 0.01 seconds.\n",
      "-- Epoch 2\n",
      "Norm: 0.26, NNZs: 2, Bias: 0.797969, T: 91698, Avg. loss: 0.007850\n",
      "Total training time: 0.01 seconds.\n",
      "-- Epoch 3\n",
      "Norm: 0.26, NNZs: 2, Bias: 0.799363, T: 137547, Avg. loss: 0.007863\n",
      "Total training time: 0.02 seconds.\n",
      "-- Epoch 4\n",
      "Norm: 0.26, NNZs: 2, Bias: 0.798934, T: 183396, Avg. loss: 0.007870\n",
      "Total training time: 0.02 seconds.\n",
      "-- Epoch 5\n",
      "Norm: 0.26, NNZs: 2, Bias: 0.800350, T: 229245, Avg. loss: 0.007855\n",
      "Total training time: 0.03 seconds.\n",
      "-- Epoch 6\n",
      "Norm: 0.26, NNZs: 2, Bias: 0.800072, T: 275094, Avg. loss: 0.007866\n",
      "Total training time: 0.03 seconds.\n",
      "-- Epoch 7\n",
      "Norm: 0.27, NNZs: 2, Bias: 0.799588, T: 320943, Avg. loss: 0.007868\n",
      "Total training time: 0.04 seconds.\n",
      "Convergence after 7 epochs took 0.04 seconds\n"
     ]
    },
    {
     "data": {
      "text/plain": [
       "0.9348934597429364"
      ]
     },
     "execution_count": 125,
     "metadata": {},
     "output_type": "execute_result"
    }
   ],
   "source": [
    "sgdr.fit(xtrainsc, ytrain)\n",
    "sgdr.score(xtestsc,ytest)"
   ]
  },
  {
   "cell_type": "code",
   "execution_count": 126,
   "id": "8b0bea66",
   "metadata": {},
   "outputs": [
    {
     "data": {
      "image/png": "[encoded data removed]",
      "text/plain": [
       "<Figure size 432x288 with 1 Axes>"
      ]
     },
     "metadata": {
      "needs_background": "light"
     },
     "output_type": "display_data"
    }
   ],
   "source": [
    "ypred = sgdr.predict(xtestsc) \n",
    "plt.scatter(xtest[:,1], ytest, marker='x', c='r', label=\"Actual Value\"); plt.title(\"x, x**2,  features\")\n",
    "plt.scatter(xtest[:,1],ypred, label=\"Predicted Value\", s = 4); plt.xlabel(\"x\"); plt.ylabel(\"y\"); plt.legend(); plt.show()"
   ]
  },
  {
   "cell_type": "markdown",
   "id": "98951d9a",
   "metadata": {},
   "source": [
    "# without scaling"
   ]
  },
  {
   "cell_type": "code",
   "execution_count": 127,
   "id": "81a37034",
   "metadata": {},
   "outputs": [
    {
     "name": "stdout",
     "output_type": "stream",
     "text": [
      "(45849, 2) (8091, 2) (45849,) (8091,)\n"
     ]
    }
   ],
   "source": [
    "# without scaling \n",
    "X = df['x'].values\n",
    "x = np.c_[X, X**2]\n",
    "\n",
    "xtrain,xtest,ytrain,ytest = train_test_split(x,y,  test_size= .15)\n",
    "print(xtrain.shape,xtest.shape,ytrain.shape,ytest.shape)"
   ]
  },
  {
   "cell_type": "code",
   "execution_count": 128,
   "id": "bd847e11",
   "metadata": {},
   "outputs": [
    {
     "name": "stdout",
     "output_type": "stream",
     "text": [
      "-- Epoch 1\n",
      "Norm: 53334385.94, NNZs: 2, Bias: -216460347.952531, T: 45849, Avg. loss: 23475747058132602322944.000000\n",
      "Total training time: 0.01 seconds.\n",
      "-- Epoch 2\n",
      "Norm: 16948792.34, NNZs: 2, Bias: -69791233.638992, T: 91698, Avg. loss: 245312295711588.500000\n",
      "Total training time: 0.01 seconds.\n",
      "-- Epoch 3\n",
      "Norm: 6276692.24, NNZs: 2, Bias: -25812544.564214, T: 137547, Avg. loss: 22879537665876.019531\n",
      "Total training time: 0.02 seconds.\n",
      "-- Epoch 4\n",
      "Norm: 2524934.58, NNZs: 2, Bias: -10347742.647533, T: 183396, Avg. loss: 3042172334086.013184\n",
      "Total training time: 0.02 seconds.\n",
      "-- Epoch 5\n",
      "Norm: 1075536.43, NNZs: 2, Bias: -4386066.462285, T: 229245, Avg. loss: 483730966266.817505\n",
      "Total training time: 0.03 seconds.\n",
      "-- Epoch 6\n",
      "Norm: 469336.17, NNZs: 2, Bias: -1943113.390216, T: 275094, Avg. loss: 87027480615.865585\n",
      "Total training time: 0.03 seconds.\n",
      "-- Epoch 7\n",
      "Norm: 215392.25, NNZs: 2, Bias: -889369.581903, T: 320943, Avg. loss: 17224567090.430874\n",
      "Total training time: 0.04 seconds.\n",
      "-- Epoch 8\n",
      "Norm: 102212.76, NNZs: 2, Bias: -418135.599551, T: 366792, Avg. loss: 3615207276.308340\n",
      "Total training time: 0.05 seconds.\n",
      "-- Epoch 9\n",
      "Norm: 48963.84, NNZs: 2, Bias: -201331.068289, T: 412641, Avg. loss: 796103248.400018\n",
      "Total training time: 0.05 seconds.\n",
      "-- Epoch 10\n",
      "Norm: 24026.71, NNZs: 2, Bias: -98847.076859, T: 458490, Avg. loss: 185067457.640040\n",
      "Total training time: 0.05 seconds.\n",
      "-- Epoch 11\n",
      "Norm: 12045.32, NNZs: 2, Bias: -49375.716130, T: 504339, Avg. loss: 44730467.794157\n",
      "Total training time: 0.06 seconds.\n",
      "-- Epoch 12\n",
      "Norm: 6089.32, NNZs: 2, Bias: -25062.267947, T: 550188, Avg. loss: 11216085.182848\n",
      "Total training time: 0.06 seconds.\n",
      "-- Epoch 13\n",
      "Norm: 3134.84, NNZs: 2, Bias: -12899.645417, T: 596037, Avg. loss: 2893538.431682\n",
      "Total training time: 0.07 seconds.\n",
      "-- Epoch 14\n",
      "Norm: 1630.45, NNZs: 2, Bias: -6725.375404, T: 641886, Avg. loss: 767835.344146\n",
      "Total training time: 0.07 seconds.\n",
      "-- Epoch 15\n",
      "Norm: 864.03, NNZs: 2, Bias: -3546.084149, T: 687735, Avg. loss: 209958.032106\n",
      "Total training time: 0.07 seconds.\n",
      "-- Epoch 16\n",
      "Norm: 458.37, NNZs: 2, Bias: -1890.575736, T: 733584, Avg. loss: 58464.578778\n",
      "Total training time: 0.07 seconds.\n",
      "-- Epoch 17\n",
      "Norm: 247.44, NNZs: 2, Bias: -1017.564983, T: 779433, Avg. loss: 16690.936405\n",
      "Total training time: 0.07 seconds.\n",
      "-- Epoch 18\n",
      "Norm: 134.20, NNZs: 2, Bias: -552.733541, T: 825282, Avg. loss: 4825.298691\n",
      "Total training time: 0.07 seconds.\n",
      "-- Epoch 19\n",
      "Norm: 73.20, NNZs: 2, Bias: -302.923131, T: 871131, Avg. loss: 1426.067638\n",
      "Total training time: 0.07 seconds.\n",
      "-- Epoch 20\n",
      "Norm: 40.60, NNZs: 2, Bias: -167.351544, T: 916980, Avg. loss: 431.087242\n",
      "Total training time: 0.09 seconds.\n",
      "-- Epoch 21\n",
      "Norm: 22.47, NNZs: 2, Bias: -93.266905, T: 962829, Avg. loss: 131.426029\n",
      "Total training time: 0.09 seconds.\n",
      "-- Epoch 22\n",
      "Norm: 12.70, NNZs: 2, Bias: -52.358627, T: 1008678, Avg. loss: 40.739253\n",
      "Total training time: 0.09 seconds.\n",
      "-- Epoch 23\n",
      "Norm: 7.14, NNZs: 2, Bias: -29.685186, T: 1054527, Avg. loss: 12.756339\n",
      "Total training time: 0.09 seconds.\n",
      "-- Epoch 24\n",
      "Norm: 4.01, NNZs: 2, Bias: -17.014792, T: 1100376, Avg. loss: 4.080674\n",
      "Total training time: 0.11 seconds.\n",
      "-- Epoch 25\n",
      "Norm: 2.30, NNZs: 2, Bias: -9.859227, T: 1146225, Avg. loss: 1.319615\n",
      "Total training time: 0.11 seconds.\n",
      "-- Epoch 26\n",
      "Norm: 1.31, NNZs: 2, Bias: -5.816542, T: 1192074, Avg. loss: 0.433698\n",
      "Total training time: 0.11 seconds.\n",
      "-- Epoch 27\n",
      "Norm: 0.75, NNZs: 2, Bias: -3.514502, T: 1237923, Avg. loss: 0.146588\n",
      "Total training time: 0.11 seconds.\n",
      "-- Epoch 28\n",
      "Norm: 0.43, NNZs: 2, Bias: -2.191847, T: 1283772, Avg. loss: 0.051263\n",
      "Total training time: 0.13 seconds.\n",
      "-- Epoch 29\n",
      "Norm: 0.25, NNZs: 2, Bias: -1.430278, T: 1329621, Avg. loss: 0.019593\n",
      "Total training time: 0.13 seconds.\n",
      "-- Epoch 30\n",
      "Norm: 0.14, NNZs: 2, Bias: -0.991543, T: 1375470, Avg. loss: 0.008821\n",
      "Total training time: 0.13 seconds.\n",
      "-- Epoch 31\n",
      "Norm: 0.09, NNZs: 2, Bias: -0.735079, T: 1421319, Avg. loss: 0.005115\n",
      "Total training time: 0.13 seconds.\n",
      "-- Epoch 32\n",
      "Norm: 0.06, NNZs: 2, Bias: -0.585467, T: 1467168, Avg. loss: 0.003800\n",
      "Total training time: 0.14 seconds.\n",
      "-- Epoch 33\n",
      "Norm: 0.05, NNZs: 2, Bias: -0.497059, T: 1513017, Avg. loss: 0.003295\n",
      "Total training time: 0.14 seconds.\n",
      "-- Epoch 34\n",
      "Norm: 0.04, NNZs: 2, Bias: -0.445885, T: 1558866, Avg. loss: 0.003146\n",
      "Total training time: 0.14 seconds.\n",
      "-- Epoch 35\n",
      "Norm: 0.03, NNZs: 2, Bias: -0.414613, T: 1604715, Avg. loss: 0.003047\n",
      "Total training time: 0.14 seconds.\n",
      "-- Epoch 36\n",
      "Norm: 0.04, NNZs: 2, Bias: -0.396647, T: 1650564, Avg. loss: 0.003019\n",
      "Total training time: 0.16 seconds.\n",
      "-- Epoch 37\n",
      "Norm: 0.04, NNZs: 2, Bias: -0.385228, T: 1696413, Avg. loss: 0.002978\n",
      "Total training time: 0.16 seconds.\n",
      "Convergence after 37 epochs took 0.16 seconds\n",
      "SGDRegressor(alpha=0.5, max_iter=100000, verbose=1)\n"
     ]
    }
   ],
   "source": [
    "sgdr.fit(xtrain, ytrain)\n",
    "print(sgdr)"
   ]
  },
  {
   "cell_type": "code",
   "execution_count": 129,
   "id": "b75b7988",
   "metadata": {},
   "outputs": [
    {
     "data": {
      "text/plain": [
       "-6.159404000140171"
      ]
     },
     "execution_count": 129,
     "metadata": {},
     "output_type": "execute_result"
    }
   ],
   "source": [
    "sgdr.score(xtestsc,ytest)"
   ]
  },
  {
   "cell_type": "code",
   "execution_count": 130,
   "id": "6ab6270a",
   "metadata": {},
   "outputs": [
    {
     "data": {
      "image/png": "[encoded data removed]",
      "text/plain": [
       "<Figure size 432x288 with 1 Axes>"
      ]
     },
     "metadata": {
      "needs_background": "light"
     },
     "output_type": "display_data"
    }
   ],
   "source": [
    "ypred = sgdr.predict(xtestsc) \n",
    "plt.scatter(xtest[:,1], ytest, marker='x', c='r', label=\"Actual Value\"); plt.title(\"x, x**2,  features\")\n",
    "plt.scatter(xtest[:,1],ypred, label=\"Predicted Value\", s = 4); plt.xlabel(\"x\"); plt.ylabel(\"y\"); plt.legend(); plt.show()"
   ]
  },
  {
   "cell_type": "markdown",
   "id": "afb269ca",
   "metadata": {},
   "source": [
    "It seems that without scaling features, the gradient descent is not stepping towards the minima but rather away from the minima"
   ]
  },
  {
   "cell_type": "code",
   "execution_count": null,
   "id": "bdc75dae",
   "metadata": {},
   "outputs": [],
   "source": []
  }
 ],
 "metadata": {
  "kernelspec": {
   "display_name": "Python 3 (ipykernel)",
   "language": "python",
   "name": "python3"
  },
  "language_info": {
   "codemirror_mode": {
    "name": "ipython",
    "version": 3
   },
   "file_extension": ".py",
   "mimetype": "text/x-python",
   "name": "python",
   "nbconvert_exporter": "python",
   "pygments_lexer": "ipython3",
   "version": "3.9.12"
  }
 },
 "nbformat": 4,
 "nbformat_minor": 5
}
