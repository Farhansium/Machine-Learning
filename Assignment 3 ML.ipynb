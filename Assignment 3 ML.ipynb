{
 "cells": [
  {
   "cell_type": "code",
   "execution_count": 1,
   "id": "93418b55",
   "metadata": {},
   "outputs": [],
   "source": [
    "import numpy as np\n",
    "import pandas as pd\n",
    "from sklearn.datasets import load_breast_cancer\n",
    "\n",
    "cancer = load_breast_cancer()"
   ]
  },
  {
   "cell_type": "code",
   "execution_count": 5,
   "id": "19d6aba4",
   "metadata": {},
   "outputs": [
    {
     "name": "stdout",
     "output_type": "stream",
     "text": [
      "Number of features: \n"
     ]
    },
    {
     "data": {
      "text/plain": [
       "30"
      ]
     },
     "execution_count": 5,
     "metadata": {},
     "output_type": "execute_result"
    }
   ],
   "source": [
    "\"Q0:Num of features:\"\n",
    "def QZero():\n",
    "    return len(cancer['feature_names'])\n",
    "print(\"Number of features: \")\n",
    "QZero()"
   ]
  },
  {
   "cell_type": "code",
   "execution_count": 41,
   "id": "ea01e26f",
   "metadata": {},
   "outputs": [],
   "source": [
    "\"Q1:Conversion to DataFrame\"\n",
    "def QOne():\n",
    "    data = np.c_[cancer.data, cancer.target]\n",
    "    columns = np.append(cancer.feature_names, [\"target\"])\n",
    "    return pd.DataFrame(data, columns=columns)"
   ]
  },
  {
   "cell_type": "code",
   "execution_count": 23,
   "id": "d4f68357",
   "metadata": {},
   "outputs": [],
   "source": [
    "\"Q2:Class Distribution\"\n",
    "def QTwo():\n",
    "    cancerdf = QOne()\n",
    "    counts = cancerdf.target.value_counts(ascending=True)\n",
    "    counts.index = \"malignant benign\".split()\n",
    "    return counts"
   ]
  },
  {
   "cell_type": "code",
   "execution_count": 51,
   "id": "c3e31574",
   "metadata": {},
   "outputs": [],
   "source": [
    "\"Q3:Split into feature and labels\"\n",
    "def QThree():\n",
    "    cancerdf = QOne()\n",
    "    X = cancerdf[cancerdf.columns[:-1]]\n",
    "    y = cancerdf.target\n",
    "    return X, y"
   ]
  },
  {
   "cell_type": "code",
   "execution_count": 56,
   "id": "f166d131",
   "metadata": {},
   "outputs": [],
   "source": [
    "\"Q4:Split into training and test sets\"\n",
    "from sklearn.model_selection import train_test_split\n",
    "def QFour():\n",
    "    X, y = QThree()\n",
    "    return train_test_split(X, y, train_size=426, test_size=143, random_state=0)"
   ]
  },
  {
   "cell_type": "code",
   "execution_count": 57,
   "id": "e0402da9",
   "metadata": {},
   "outputs": [],
   "source": [
    "\"Q5:Fitting into KNeighbhorsClassifier\"\n",
    "from sklearn.neighbors import KNeighborsClassifier\n",
    "def QFive():\n",
    "    X_train, X_test, y_train, y_test = QFour()\n",
    "    model = KNeighborsClassifier(n_neighbors=1)\n",
    "    model.fit(X_train, y_train)\n",
    "    return model"
   ]
  },
  {
   "cell_type": "code",
   "execution_count": 58,
   "id": "77aed54b",
   "metadata": {},
   "outputs": [],
   "source": [
    "\"Q6:Predict using mean value\"\n",
    "def QSix():\n",
    "    cancerdf = QOne()\n",
    "    means = cancerdf.mean()[:-1].values.reshape(1, -1)\n",
    "    model = QFive()\n",
    "    return model.predict(means)"
   ]
  },
  {
   "cell_type": "code",
   "execution_count": 59,
   "id": "461a178f",
   "metadata": {},
   "outputs": [],
   "source": [
    "\"Q7:Predict for test-set\"\n",
    "def QSeven():\n",
    "    X_train, X_test, y_train, y_test = QFour()\n",
    "    knn = QFive()\n",
    "    return knn.predict(X_test)"
   ]
  },
  {
   "cell_type": "code",
   "execution_count": 63,
   "id": "45006c4f",
   "metadata": {},
   "outputs": [],
   "source": [
    "\"Q8: Find mean accuracy\"\n",
    "def QEight():\n",
    "    X_train, X_test, y_train, y_test = QFour()\n",
    "    knn = QFive()\n",
    "    return knn.score(X_test, y_test)"
   ]
  },
  {
   "cell_type": "code",
   "execution_count": 64,
   "id": "b4f40a8a",
   "metadata": {},
   "outputs": [
    {
     "data": {
      "text/plain": [
       "0.916083916083916"
      ]
     },
     "execution_count": 64,
     "metadata": {},
     "output_type": "execute_result"
    }
   ],
   "source": [
    "QEight()"
   ]
  },
  {
   "cell_type": "code",
   "execution_count": null,
   "id": "8cc7569d",
   "metadata": {},
   "outputs": [],
   "source": []
  }
 ],
 "metadata": {
  "kernelspec": {
   "display_name": "Python 3 (ipykernel)",
   "language": "python",
   "name": "python3"
  },
  "language_info": {
   "codemirror_mode": {
    "name": "ipython",
    "version": 3
   },
   "file_extension": ".py",
   "mimetype": "text/x-python",
   "name": "python",
   "nbconvert_exporter": "python",
   "pygments_lexer": "ipython3",
   "version": "3.9.12"
  }
 },
 "nbformat": 4,
 "nbformat_minor": 5
}
